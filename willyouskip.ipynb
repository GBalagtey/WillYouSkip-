{
 "cells": [
  {
   "cell_type": "markdown",
   "id": "693d638d",
   "metadata": {},
   "source": [
    "# Introduction\n"
   ]
  },
  {
   "cell_type": "code",
   "execution_count": 4,
   "id": "44118028",
   "metadata": {},
   "outputs": [],
   "source": [
    "import pandas as pd\n",
    "import numpy as np\n",
    "import matplotlib.pyplot as plt\n",
    "import seaborn as sns\n",
    "import kagglehub"
   ]
  },
  {
   "cell_type": "markdown",
   "id": "bb5ab451",
   "metadata": {},
   "source": [
    "## Exploratory Data Analysis"
   ]
  },
  {
   "cell_type": "code",
   "execution_count": 7,
   "id": "0ed29284",
   "metadata": {},
   "outputs": [
    {
     "name": "stderr",
     "output_type": "stream",
     "text": [
      "<>:1: SyntaxWarning: invalid escape sequence '\\s'\n",
      "<>:1: SyntaxWarning: invalid escape sequence '\\s'\n",
      "C:\\Users\\gregg\\AppData\\Local\\Temp\\ipykernel_30052\\676776787.py:1: SyntaxWarning: invalid escape sequence '\\s'\n",
      "  df = pd.read_csv(\"dataset\\spotify_history.csv\")\n"
     ]
    }
   ],
   "source": [
    "df = pd.read_csv(\"dataset\\spotify_history.csv\")"
   ]
  },
  {
   "cell_type": "code",
   "execution_count": 8,
   "id": "fa4b02d7",
   "metadata": {},
   "outputs": [
    {
     "name": "stdout",
     "output_type": "stream",
     "text": [
      "<class 'pandas.core.frame.DataFrame'>\n",
      "RangeIndex: 149860 entries, 0 to 149859\n",
      "Data columns (total 11 columns):\n",
      " #   Column             Non-Null Count   Dtype \n",
      "---  ------             --------------   ----- \n",
      " 0   spotify_track_uri  149860 non-null  object\n",
      " 1   ts                 149860 non-null  object\n",
      " 2   platform           149860 non-null  object\n",
      " 3   ms_played          149860 non-null  int64 \n",
      " 4   track_name         149860 non-null  object\n",
      " 5   artist_name        149860 non-null  object\n",
      " 6   album_name         149860 non-null  object\n",
      " 7   reason_start       149717 non-null  object\n",
      " 8   reason_end         149743 non-null  object\n",
      " 9   shuffle            149860 non-null  bool  \n",
      " 10  skipped            149860 non-null  bool  \n",
      "dtypes: bool(2), int64(1), object(8)\n",
      "memory usage: 10.6+ MB\n",
      "None\n"
     ]
    }
   ],
   "source": [
    "print(df.info())"
   ]
  },
  {
   "cell_type": "code",
   "execution_count": 10,
   "id": "11131da4",
   "metadata": {},
   "outputs": [
    {
     "name": "stdout",
     "output_type": "stream",
     "text": [
      "skipped\n",
      "False    141991\n",
      "True       7869\n",
      "Name: count, dtype: int64\n"
     ]
    }
   ],
   "source": [
    "print(df['skipped'].value_counts())"
   ]
  },
  {
   "cell_type": "code",
   "execution_count": 11,
   "id": "145e0202",
   "metadata": {},
   "outputs": [
    {
     "name": "stdout",
     "output_type": "stream",
     "text": [
      "spotify_track_uri      0\n",
      "ts                     0\n",
      "platform               0\n",
      "ms_played              0\n",
      "track_name             0\n",
      "artist_name            0\n",
      "album_name             0\n",
      "reason_start         143\n",
      "reason_end           117\n",
      "shuffle                0\n",
      "skipped                0\n",
      "dtype: int64\n"
     ]
    }
   ],
   "source": [
    "print(df.isnull().sum())"
   ]
  },
  {
   "cell_type": "markdown",
   "id": "cd9b9d59",
   "metadata": {},
   "source": []
  },
  {
   "cell_type": "code",
   "execution_count": 12,
   "id": "604bbd4e",
   "metadata": {},
   "outputs": [
    {
     "data": {
      "image/png": "[encoded data removed]",
      "text/plain": [
       "<Figure size 640x480 with 1 Axes>"
      ]
     },
     "metadata": {},
     "output_type": "display_data"
    }
   ],
   "source": [
    "sns.countplot(x='skipped', data=df)\n",
    "plt.title('Count of Skipped vs Not Skipped Songs')\n",
    "plt.xlabel('Skipped')\n",
    "plt.show()"
   ]
  }
 ],
 "metadata": {
  "kernelspec": {
   "display_name": "Python 3",
   "language": "python",
   "name": "python3"
  },
  "language_info": {
   "codemirror_mode": {
    "name": "ipython",
    "version": 3
   },
   "file_extension": ".py",
   "mimetype": "text/x-python",
   "name": "python",
   "nbconvert_exporter": "python",
   "pygments_lexer": "ipython3",
   "version": "3.12.6"
  }
 },
 "nbformat": 4,
 "nbformat_minor": 5
}
